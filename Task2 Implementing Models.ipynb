{
 "cells": [
  {
   "cell_type": "code",
   "execution_count": 1,
   "id": "876ad2a4",
   "metadata": {},
   "outputs": [],
   "source": [
    "import numpy as np\n",
    "import pandas as pd\n",
    "from pandas import Series, DataFrame\n",
    "import matplotlib.pyplot as plt\n",
    "import math\n",
    "import sklearn\n",
    "\n",
    "from sklearn import preprocessing\n",
    "from sklearn.preprocessing import LabelEncoder, OneHotEncoder\n",
    "from sklearn.datasets import make_blobs\n",
    "from sklearn.model_selection import train_test_split\n",
    "from sklearn.metrics import mean_squared_error\n",
    "from sklearn.linear_model import LinearRegression, Ridge, Lasso\n",
    "from sklearn.neighbors import KNeighborsClassifier\n",
    "from sklearn.svm import SVR\n",
    "from sklearn.naive_bayes import GaussianNB\n",
    "from sklearn.ensemble import RandomForestClassifier\n",
    "import lightgbm as lgb\n",
    "from lightgbm import LGBMClassifier\n",
    "\n",
    "%matplotlib inline\n",
    "\n",
    "data=pd.read_csv(\"M1_final.csv\")"
   ]
  },
  {
   "cell_type": "code",
   "execution_count": 2,
   "id": "3ca99234",
   "metadata": {},
   "outputs": [
    {
     "data": {
      "text/plain": [
       "A1       int64\n",
       "A2       int64\n",
       "A3       int64\n",
       "A4      object\n",
       "A5      object\n",
       "A6      object\n",
       "A7       int64\n",
       "A8       int64\n",
       "A9       int64\n",
       "A10      int64\n",
       "A11      int64\n",
       "A12      int64\n",
       "A13      int64\n",
       "A14     object\n",
       "A15      int64\n",
       "A16     object\n",
       "A17      int64\n",
       "A18      int64\n",
       "A19    float64\n",
       "A20     object\n",
       "A21      int64\n",
       "A22      int64\n",
       "A23      int64\n",
       "dtype: object"
      ]
     },
     "execution_count": 2,
     "metadata": {},
     "output_type": "execute_result"
    }
   ],
   "source": [
    "data.columns=['A1','A2','A3','A4','A5','A6','A7','A8','A9','A10','A11','A12','A13','A14','A15','A16','A17','A18','A19','A20','A21','A22','A23']\n",
    "\n",
    "data.dtypes\n"
   ]
  },
  {
   "cell_type": "code",
   "execution_count": 3,
   "id": "62a28c62",
   "metadata": {},
   "outputs": [
    {
     "data": {
      "text/plain": [
       "A1       int64\n",
       "A2       int64\n",
       "A3       int64\n",
       "A4       int64\n",
       "A5       int64\n",
       "A6      object\n",
       "A7       int64\n",
       "A8      object\n",
       "A9       int64\n",
       "A10      int64\n",
       "A11    float64\n",
       "A12     object\n",
       "A13      int64\n",
       "A14      int64\n",
       "A15      int64\n",
       "dtype: object"
      ]
     },
     "execution_count": 3,
     "metadata": {},
     "output_type": "execute_result"
    }
   ],
   "source": [
    "#preproccessing\n",
    "\n",
    "\n",
    "data.drop('A4',inplace=True, axis='columns')\n",
    "data.drop('A5',inplace=True, axis='columns')\n",
    "data.drop('A6',inplace=True, axis='columns')\n",
    "data.drop('A8',inplace=True, axis='columns')\n",
    "data.drop('A9',inplace=True, axis='columns')\n",
    "data.drop('A10',inplace=True, axis='columns')\n",
    "data.drop('A11',inplace=True, axis='columns')\n",
    "data.drop('A12',inplace=True, axis='columns')\n",
    "\n",
    "data.columns=['A1','A2','A3','A4','A5','A6','A7','A8','A9','A10','A11','A12','A13','A14','A15']\n",
    "\n",
    "data.dtypes"
   ]
  },
  {
   "cell_type": "code",
   "execution_count": 4,
   "id": "3aafa846",
   "metadata": {},
   "outputs": [
    {
     "name": "stderr",
     "output_type": "stream",
     "text": [
      "<ipython-input-4-a4284a0b40e8>:10: SettingWithCopyWarning: \n",
      "A value is trying to be set on a copy of a slice from a DataFrame.\n",
      "Try using .loc[row_indexer,col_indexer] = value instead\n",
      "\n",
      "See the caveats in the documentation: https://pandas.pydata.org/pandas-docs/stable/user_guide/indexing.html#returning-a-view-versus-a-copy\n",
      "  X_train['A6']=label_encoder.fit_transform(X_train['A6'])\n",
      "<ipython-input-4-a4284a0b40e8>:11: SettingWithCopyWarning: \n",
      "A value is trying to be set on a copy of a slice from a DataFrame.\n",
      "Try using .loc[row_indexer,col_indexer] = value instead\n",
      "\n",
      "See the caveats in the documentation: https://pandas.pydata.org/pandas-docs/stable/user_guide/indexing.html#returning-a-view-versus-a-copy\n",
      "  X_train['A8']=label_encoder.fit_transform(X_train['A8'])\n",
      "<ipython-input-4-a4284a0b40e8>:12: SettingWithCopyWarning: \n",
      "A value is trying to be set on a copy of a slice from a DataFrame.\n",
      "Try using .loc[row_indexer,col_indexer] = value instead\n",
      "\n",
      "See the caveats in the documentation: https://pandas.pydata.org/pandas-docs/stable/user_guide/indexing.html#returning-a-view-versus-a-copy\n",
      "  X_train['A12']=label_encoder.fit_transform(X_train['A12'])\n",
      "<ipython-input-4-a4284a0b40e8>:16: SettingWithCopyWarning: \n",
      "A value is trying to be set on a copy of a slice from a DataFrame.\n",
      "Try using .loc[row_indexer,col_indexer] = value instead\n",
      "\n",
      "See the caveats in the documentation: https://pandas.pydata.org/pandas-docs/stable/user_guide/indexing.html#returning-a-view-versus-a-copy\n",
      "  X_test['A6']=label_encoder.fit_transform(X_test['A6'])\n",
      "<ipython-input-4-a4284a0b40e8>:17: SettingWithCopyWarning: \n",
      "A value is trying to be set on a copy of a slice from a DataFrame.\n",
      "Try using .loc[row_indexer,col_indexer] = value instead\n",
      "\n",
      "See the caveats in the documentation: https://pandas.pydata.org/pandas-docs/stable/user_guide/indexing.html#returning-a-view-versus-a-copy\n",
      "  X_test['A8']=label_encoder.fit_transform(X_test['A8'])\n",
      "<ipython-input-4-a4284a0b40e8>:18: SettingWithCopyWarning: \n",
      "A value is trying to be set on a copy of a slice from a DataFrame.\n",
      "Try using .loc[row_indexer,col_indexer] = value instead\n",
      "\n",
      "See the caveats in the documentation: https://pandas.pydata.org/pandas-docs/stable/user_guide/indexing.html#returning-a-view-versus-a-copy\n",
      "  X_test['A12']=label_encoder.fit_transform(X_test['A12'])\n"
     ]
    }
   ],
   "source": [
    "X=data.iloc[:,:-1]\n",
    "y=data.iloc[:,-1]\n",
    "\n",
    "X_train,X_test,y_train,y_test=train_test_split(X,y,train_size=0.9,random_state=1)\n",
    "                                               \n",
    "label_encoder=LabelEncoder()\n",
    "\n",
    "X_train.columns=['A1','A2','A3','A4','A5','A6','A7','A8','A9','A10','A11','A12','A13','A14']\n",
    "\n",
    "X_train['A6']=label_encoder.fit_transform(X_train['A6'])\n",
    "X_train['A8']=label_encoder.fit_transform(X_train['A8'])\n",
    "X_train['A12']=label_encoder.fit_transform(X_train['A12'])\n",
    "\n",
    "X_test.columns=['A1','A2','A3','A4','A5','A6','A7','A8','A9','A10','A11','A12','A13','A14']\n",
    "\n",
    "X_test['A6']=label_encoder.fit_transform(X_test['A6'])\n",
    "X_test['A8']=label_encoder.fit_transform(X_test['A8'])\n",
    "X_test['A12']=label_encoder.fit_transform(X_test['A12'])"
   ]
  },
  {
   "cell_type": "code",
   "execution_count": 5,
   "id": "f7c7e4cc",
   "metadata": {},
   "outputs": [
    {
     "name": "stdout",
     "output_type": "stream",
     "text": [
      "<class 'pandas.core.frame.DataFrame'>\n",
      "RangeIndex: 28820 entries, 0 to 28819\n",
      "Data columns (total 14 columns):\n",
      " #   Column  Non-Null Count  Dtype  \n",
      "---  ------  --------------  -----  \n",
      " 0   A1      28820 non-null  int64  \n",
      " 1   A2      28820 non-null  int64  \n",
      " 2   A3      28820 non-null  int64  \n",
      " 3   A4      28820 non-null  int64  \n",
      " 4   A5      28820 non-null  int64  \n",
      " 5   A6      28820 non-null  object \n",
      " 6   A7      28820 non-null  int64  \n",
      " 7   A8      28818 non-null  object \n",
      " 8   A9      28820 non-null  int64  \n",
      " 9   A10     28820 non-null  int64  \n",
      " 10  A11     28820 non-null  float64\n",
      " 11  A12     28820 non-null  object \n",
      " 12  A13     28820 non-null  int64  \n",
      " 13  A14     28820 non-null  int64  \n",
      "dtypes: float64(1), int64(10), object(3)\n",
      "memory usage: 3.1+ MB\n"
     ]
    }
   ],
   "source": [
    "X.info()"
   ]
  },
  {
   "cell_type": "code",
   "execution_count": 6,
   "id": "79ad7d46",
   "metadata": {},
   "outputs": [
    {
     "name": "stdout",
     "output_type": "stream",
     "text": [
      "6.585676611593605\n"
     ]
    },
    {
     "data": {
      "text/plain": [
       "<AxesSubplot:title={'center':'Modal Coefficients'}>"
      ]
     },
     "execution_count": 6,
     "metadata": {},
     "output_type": "execute_result"
    },
    {
     "data": {
      "image/png": "[encoded data removed]",
      "text/plain": [
       "<Figure size 432x288 with 1 Axes>"
      ]
     },
     "metadata": {
      "needs_background": "light"
     },
     "output_type": "display_data"
    }
   ],
   "source": [
    "#1a.Linear Regression\n",
    "\n",
    "l_reg=LinearRegression()\n",
    "l_reg.fit(X_train,y_train)\n",
    "\n",
    "p=l_reg.predict(X_test)\n",
    "\n",
    "mse = sklearn.metrics.mean_squared_error(y_test, p)\n",
    "rmse1a=math.sqrt(mse)\n",
    "\n",
    "print(rmse1a)\n",
    "\n",
    "pred=X_train.columns\n",
    "coef=Series(l_reg.coef_,pred).sort_values()\n",
    "coef.plot(kind='bar', title='Modal Coefficients')"
   ]
  },
  {
   "cell_type": "code",
   "execution_count": 7,
   "id": "e27b968e",
   "metadata": {},
   "outputs": [
    {
     "name": "stdout",
     "output_type": "stream",
     "text": [
      "6.585676695759223\n"
     ]
    },
    {
     "data": {
      "text/plain": [
       "<AxesSubplot:title={'center':'Modal Coefficients'}>"
      ]
     },
     "execution_count": 7,
     "metadata": {},
     "output_type": "execute_result"
    },
    {
     "data": {
      "image/png": "[encoded data removed]",
      "text/plain": [
       "<Figure size 432x288 with 1 Axes>"
      ]
     },
     "metadata": {
      "needs_background": "light"
     },
     "output_type": "display_data"
    }
   ],
   "source": [
    "#1b.Ridge Regression\n",
    "\n",
    "r_reg=Ridge(alpha=0.01)\n",
    "r_reg.fit(X_train,y_train)\n",
    "\n",
    "p=r_reg.predict(X_test)\n",
    "\n",
    "mse = sklearn.metrics.mean_squared_error(y_test, p)\n",
    "rmse1b=math.sqrt(mse)\n",
    "\n",
    "print(rmse1b)\n",
    "\n",
    "pred=X_train.columns\n",
    "coef=Series(r_reg.coef_,pred).sort_values()\n",
    "coef.plot(kind='bar', title='Modal Coefficients')\n"
   ]
  },
  {
   "cell_type": "code",
   "execution_count": 8,
   "id": "dfdc4b32",
   "metadata": {},
   "outputs": [
    {
     "name": "stdout",
     "output_type": "stream",
     "text": [
      "6.586676857882777\n"
     ]
    },
    {
     "data": {
      "text/plain": [
       "<AxesSubplot:title={'center':'Modal Coefficients'}>"
      ]
     },
     "execution_count": 8,
     "metadata": {},
     "output_type": "execute_result"
    },
    {
     "data": {
      "image/png": "[encoded data removed]",
      "text/plain": [
       "<Figure size 432x288 with 1 Axes>"
      ]
     },
     "metadata": {
      "needs_background": "light"
     },
     "output_type": "display_data"
    }
   ],
   "source": [
    "#1c.Lasso Regression\n",
    "\n",
    "la_reg=Lasso(alpha=0.01)\n",
    "la_reg.fit(X_train,y_train)\n",
    "\n",
    "p=la_reg.predict(X_test)\n",
    "\n",
    "mse = sklearn.metrics.mean_squared_error(y_test, p)\n",
    "rmse1c=math.sqrt(mse)\n",
    "\n",
    "print(rmse1c)\n",
    "\n",
    "pred=X_train.columns\n",
    "coef=Series(la_reg.coef_,pred).sort_values()\n",
    "coef.plot(kind='bar', title='Modal Coefficients')"
   ]
  },
  {
   "cell_type": "code",
   "execution_count": 9,
   "id": "55fbe01e",
   "metadata": {},
   "outputs": [
    {
     "name": "stdout",
     "output_type": "stream",
     "text": [
      "7.647304297057713\n"
     ]
    }
   ],
   "source": [
    "#1d.KNN model\n",
    "\n",
    "knn=KNeighborsClassifier(n_neighbors=950)\n",
    "knn.fit(X_train,y_train)\n",
    "\n",
    "p=knn.predict(X_test)\n",
    "\n",
    "mse = sklearn.metrics.mean_squared_error(y_test, p)\n",
    "rmse1d=math.sqrt(mse)\n",
    "\n",
    "print(rmse1d)"
   ]
  },
  {
   "cell_type": "code",
   "execution_count": 10,
   "id": "43799a7f",
   "metadata": {},
   "outputs": [
    {
     "name": "stdout",
     "output_type": "stream",
     "text": [
      "6.5587216209166375\n"
     ]
    }
   ],
   "source": [
    "#1e.SVR\n",
    "\n",
    "s=SVR(kernel='rbf')\n",
    "s.fit(X_train,y_train)\n",
    "\n",
    "p=s.predict(X_test)\n",
    "\n",
    "mse = sklearn.metrics.mean_squared_error(y_test, p)\n",
    "rmse1e=math.sqrt(mse)\n",
    "\n",
    "print(rmse1e)"
   ]
  },
  {
   "cell_type": "code",
   "execution_count": 11,
   "id": "e0186155",
   "metadata": {},
   "outputs": [
    {
     "name": "stdout",
     "output_type": "stream",
     "text": [
      "8.42332853253198\n"
     ]
    }
   ],
   "source": [
    "#1f.Naive Bayes\n",
    "\n",
    "nb=GaussianNB()\n",
    "nb.fit(X_train,y_train)\n",
    "\n",
    "p=nb.predict(X_test)\n",
    "\n",
    "mse = sklearn.metrics.mean_squared_error(y_test, p)\n",
    "rmse1f=math.sqrt(mse)\n",
    "\n",
    "print(rmse1f)"
   ]
  },
  {
   "cell_type": "code",
   "execution_count": 12,
   "id": "6ea0bd13",
   "metadata": {},
   "outputs": [
    {
     "name": "stdout",
     "output_type": "stream",
     "text": [
      "7.888976312478573\n"
     ]
    }
   ],
   "source": [
    "#1g.Random Forest\n",
    "\n",
    "rfc=RandomForestClassifier()\n",
    "rfc.fit(X_train,y_train)\n",
    "\n",
    "p=rfc.predict(X_test)\n",
    "\n",
    "mse = sklearn.metrics.mean_squared_error(y_test, p)\n",
    "rmse1g=math.sqrt(mse)\n",
    "\n",
    "print(rmse1g)"
   ]
  },
  {
   "cell_type": "code",
   "execution_count": 13,
   "id": "78484c4c",
   "metadata": {},
   "outputs": [
    {
     "name": "stdout",
     "output_type": "stream",
     "text": [
      "9.844682089365111\n"
     ]
    }
   ],
   "source": [
    "#1h.LightGBM\n",
    "\n",
    "lgbmc=LGBMClassifier()\n",
    "lgbmc.fit(X_train,y_train)\n",
    "\n",
    "p=lgbmc.predict(X_test)\n",
    "\n",
    "mse = sklearn.metrics.mean_squared_error(y_test, p)\n",
    "rmse1h=math.sqrt(mse)\n",
    "\n",
    "print(rmse1h)"
   ]
  },
  {
   "cell_type": "code",
   "execution_count": 14,
   "id": "81b203ed",
   "metadata": {},
   "outputs": [],
   "source": [
    "#one hot encoding data\n",
    "\n",
    "data.columns=['A1','A2','A3','A4','A5','A6','A7','A8','A9','A10','A11','A12','A13','A14','A15']\n",
    "\n",
    "ohe=OneHotEncoder(handle_unknown='ignore')\n",
    "\n",
    "ohe_data=pd.DataFrame(ohe.fit_transform(data[['A6','A8','A12']]).toarray())\n",
    "\n",
    "data.drop('A6',inplace=True, axis='columns')\n",
    "data.drop('A8',inplace=True, axis='columns')\n",
    "data.drop('A12',inplace=True, axis='columns')\n",
    "\n",
    "data=data.join(ohe_data)\n",
    "\n",
    "y=data['A15']\n",
    "\n",
    "data.drop('A15',inplace=True, axis='columns')\n",
    "X=data\n",
    "\n",
    "X_train,X_test,y_train,y_test=train_test_split(X,y,train_size=0.9,random_state=1)"
   ]
  },
  {
   "cell_type": "code",
   "execution_count": 15,
   "id": "cb209cc4",
   "metadata": {},
   "outputs": [
    {
     "name": "stdout",
     "output_type": "stream",
     "text": [
      "6.4472209717451054\n"
     ]
    }
   ],
   "source": [
    "#2a.Linear Regression\n",
    "\n",
    "l_reg=LinearRegression()\n",
    "l_reg.fit(X_train,y_train)\n",
    "\n",
    "p=l_reg.predict(X_test)\n",
    "\n",
    "mse = sklearn.metrics.mean_squared_error(y_test, p)\n",
    "rmse2a=math.sqrt(mse)\n",
    "\n",
    "print(rmse2a)"
   ]
  },
  {
   "cell_type": "code",
   "execution_count": 16,
   "id": "13a3f3bb",
   "metadata": {},
   "outputs": [
    {
     "name": "stdout",
     "output_type": "stream",
     "text": [
      "6.4472196153481605\n"
     ]
    }
   ],
   "source": [
    "#2b.Ridge Regression\n",
    "\n",
    "r_reg=Ridge(alpha=0.01)\n",
    "r_reg.fit(X_train,y_train)\n",
    "\n",
    "p=r_reg.predict(X_test)\n",
    "\n",
    "mse = sklearn.metrics.mean_squared_error(y_test, p)\n",
    "rmse2b=math.sqrt(mse)\n",
    "\n",
    "print(rmse2b)"
   ]
  },
  {
   "cell_type": "code",
   "execution_count": 17,
   "id": "41a8bb33",
   "metadata": {},
   "outputs": [
    {
     "name": "stdout",
     "output_type": "stream",
     "text": [
      "6.507509503535647\n"
     ]
    }
   ],
   "source": [
    "#2c.Lasso Regression\n",
    "\n",
    "la_reg=Lasso(alpha=0.01)\n",
    "la_reg.fit(X_train,y_train)\n",
    "\n",
    "p=la_reg.predict(X_test)\n",
    "\n",
    "mse = sklearn.metrics.mean_squared_error(y_test, p)\n",
    "rmse2c=math.sqrt(mse)\n",
    "\n",
    "print(rmse2c)"
   ]
  },
  {
   "cell_type": "code",
   "execution_count": 18,
   "id": "479611e7",
   "metadata": {},
   "outputs": [
    {
     "name": "stdout",
     "output_type": "stream",
     "text": [
      "7.656826701856476\n"
     ]
    }
   ],
   "source": [
    "#2d.KNN model\n",
    "\n",
    "knn=KNeighborsClassifier(n_neighbors=950)\n",
    "knn.fit(X_train,y_train)\n",
    "\n",
    "p=knn.predict(X_test)\n",
    "\n",
    "mse = sklearn.metrics.mean_squared_error(y_test, p)\n",
    "rmse2d=math.sqrt(mse)\n",
    "\n",
    "print(rmse2d)"
   ]
  },
  {
   "cell_type": "code",
   "execution_count": 19,
   "id": "ac74d8d2",
   "metadata": {},
   "outputs": [
    {
     "name": "stdout",
     "output_type": "stream",
     "text": [
      "6.59212075064052\n"
     ]
    }
   ],
   "source": [
    "#2e.SVR\n",
    "\n",
    "s=SVR(kernel='rbf')\n",
    "s.fit(X_train,y_train)\n",
    "\n",
    "p=s.predict(X_test)\n",
    "\n",
    "mse = sklearn.metrics.mean_squared_error(y_test, p)\n",
    "rmse2e=math.sqrt(mse)\n",
    "\n",
    "print(rmse2e)"
   ]
  },
  {
   "cell_type": "code",
   "execution_count": 20,
   "id": "fe3cdb83",
   "metadata": {},
   "outputs": [
    {
     "name": "stdout",
     "output_type": "stream",
     "text": [
      "15.295504684938232\n"
     ]
    }
   ],
   "source": [
    "#2f.Naive Bayes\n",
    "\n",
    "nb=GaussianNB()\n",
    "nb.fit(X_train,y_train)\n",
    "\n",
    "p=nb.predict(X_test)\n",
    "\n",
    "mse = sklearn.metrics.mean_squared_error(y_test, p)\n",
    "rmse2f=math.sqrt(mse)\n",
    "\n",
    "print(rmse2f)"
   ]
  },
  {
   "cell_type": "code",
   "execution_count": 21,
   "id": "bb3b22da",
   "metadata": {},
   "outputs": [
    {
     "name": "stdout",
     "output_type": "stream",
     "text": [
      "7.864152807228107\n"
     ]
    }
   ],
   "source": [
    "#2g.Random Forest\n",
    "\n",
    "rfc=RandomForestClassifier()\n",
    "rfc.fit(X_train,y_train)\n",
    "\n",
    "p=rfc.predict(X_test)\n",
    "\n",
    "mse = sklearn.metrics.mean_squared_error(y_test, p)\n",
    "rmse2g=math.sqrt(mse)\n",
    "\n",
    "print(rmse2g)"
   ]
  },
  {
   "cell_type": "code",
   "execution_count": 22,
   "id": "aaeaa484",
   "metadata": {},
   "outputs": [
    {
     "name": "stdout",
     "output_type": "stream",
     "text": [
      "8.639474949990872\n"
     ]
    }
   ],
   "source": [
    "#2h.LightGBM\n",
    "\n",
    "lgbmc=LGBMClassifier()\n",
    "lgbmc.fit(X_train,y_train)\n",
    "\n",
    "p=lgbmc.predict(X_test)\n",
    "\n",
    "mse = sklearn.metrics.mean_squared_error(y_test, p)\n",
    "rmse2h=math.sqrt(mse)\n",
    "\n",
    "print(rmse2h)"
   ]
  },
  {
   "cell_type": "code",
   "execution_count": 23,
   "id": "bf1819c7",
   "metadata": {},
   "outputs": [
    {
     "data": {
      "image/png": "[encoded data removed]",
      "text/plain": [
       "<Figure size 432x288 with 1 Axes>"
      ]
     },
     "metadata": {
      "needs_background": "light"
     },
     "output_type": "display_data"
    }
   ],
   "source": [
    "#Analysing\n",
    "\n",
    "Cy1=np.array([rmse1a,rmse1b,rmse1c,rmse1d,rmse1e,rmse1f,rmse1g,rmse1h])\n",
    "Cy2=np.array([rmse2a,rmse2b,rmse2c,rmse2d,rmse2e,rmse2f,rmse2g,rmse2h])\n",
    "\n",
    "Cx=np.array([\"LinearReg\",\"L1Reg\",\"L2Reg\",\"KNN\",\"SVR\",\"NaivB\",\"RanFor\",\"LGBM\"])\n",
    "\n",
    "x_axis=np.arange(len(Cx))\n",
    "\n",
    "plt.bar(x_axis-0.2,Cy1,0.4,label='LabelEncodedData')\n",
    "plt.bar(x_axis+0.2,Cy2,0.4,label='OneHotEncodedData')\n",
    "\n",
    "plt.xticks(x_axis,Cx)\n",
    "plt.ylabel(\"RMSE Values\")\n",
    "plt.xlabel(\"Models\")\n",
    "\n",
    "plt.legend()\n",
    "plt.show()"
   ]
  },
  {
   "cell_type": "code",
   "execution_count": null,
   "id": "6be4a1c4",
   "metadata": {},
   "outputs": [],
   "source": []
  }
 ],
 "metadata": {
  "kernelspec": {
   "display_name": "Python 3",
   "language": "python",
   "name": "python3"
  },
  "language_info": {
   "codemirror_mode": {
    "name": "ipython",
    "version": 3
   },
   "file_extension": ".py",
   "mimetype": "text/x-python",
   "name": "python",
   "nbconvert_exporter": "python",
   "pygments_lexer": "ipython3",
   "version": "3.8.8"
  }
 },
 "nbformat": 4,
 "nbformat_minor": 5
}
